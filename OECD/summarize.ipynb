{
 "cells": [
  {
   "cell_type": "code",
   "execution_count": 40,
   "id": "04337e3b",
   "metadata": {},
   "outputs": [],
   "source": [
    "import pandas as pd\n",
    "import os\n",
    "from os import listdir\n",
    "from os.path import isfile, join\n",
    "import csv"
   ]
  },
  {
   "cell_type": "code",
   "execution_count": 23,
   "id": "b5bafbe9",
   "metadata": {},
   "outputs": [],
   "source": [
    "# Set PubTator3-annotated file path\n",
    "input_file_path = os.getcwd() + '/Pubtator_Output/'"
   ]
  },
  {
   "cell_type": "code",
   "execution_count": 24,
   "id": "bd9a7fb9",
   "metadata": {},
   "outputs": [],
   "source": [
    "# List of pubtator-annotated files\n",
    "pubtator_file_list = []\n",
    "for file in listdir(input_file_path):\n",
    "     if isfile(join(input_file_path, file)):\n",
    "            pubtator_file_list.append(input_file_path + file)"
   ]
  },
  {
   "cell_type": "code",
   "execution_count": 70,
   "id": "670b4138",
   "metadata": {},
   "outputs": [],
   "source": [
    "# Function to extract data from the text file after the specified line\n",
    "def extract_data_from_file(filename):\n",
    "    with open(filename, 'r') as file:\n",
    "        lines = file.readlines()\n",
    "    \n",
    "    # Find the index of the specified line\n",
    "    start_index = 0\n",
    "    for i, line in enumerate(lines):\n",
    "        if \"00000|a|-NoAbstract-\" in line:\n",
    "            start_index = i + 1\n",
    "            break\n",
    "    \n",
    "    # Extract the data after the specified line\n",
    "    extracted_data = ''.join(lines[start_index:]).strip().replace('\\t', ',')\n",
    "    return extracted_data\n",
    "\n",
    "# List of text files\n",
    "files = pubtator_file_list\n",
    "\n",
    "# Initialize an empty list to store dataframes\n",
    "dataframes = []\n",
    "\n",
    "# output files\n",
    "output_file = os.getcwd() + 'OECD_pubtator_annotated.csv'\n",
    "\n",
    "# Write column names\n",
    "column_names = ['XX', 'Start', 'End', 'Term', 'Ontology', 'Identifier', 'Test_no']\n",
    "with open(output_file, 'w', newline='') as file:\n",
    "    writer = csv.writer(file)\n",
    "    writer.writerow(column_names)\n",
    "\n",
    "# Process each file\n",
    "for file in files:\n",
    "    filename = os.path.basename(file)\n",
    "    if filename != '.DS_Store':\n",
    "        data = extract_data_from_file(file)\n",
    "        data_rows = data.split('\\n')  # Split the data into rows\n",
    "\n",
    "        with open(output_file, 'a', newline='') as file:\n",
    "            writer = csv.writer(file)\n",
    "            for row in data_rows:\n",
    "                if row.strip():  # Check if the row is not empty\n",
    "                    data_list = row.split(',')  # Split the row into columns\n",
    "                    filename_str = filename.split('.')[0]\n",
    "                    data_list.append(filename_str)  # Add the filename to the end\n",
    "                    writer.writerow(data_list)\n"
   ]
  },
  {
   "cell_type": "code",
   "execution_count": 71,
   "id": "67aa5bac",
   "metadata": {},
   "outputs": [
    {
     "name": "stdout",
     "output_type": "stream",
     "text": [
      "Types of Genes:\n",
      "Estrogen Receptor (Identifier: 2099)\n",
      "CD54 (Identifier: 3383)\n",
      "SENS (Identifier: 284252)\n",
      "estrogen receptor (Identifier: 2099)\n",
      "HPRT (Identifier: 3251)\n",
      "Estrogen Receptor (Identifier: 100136026)\n",
      "Interleukin-8 (Identifier: 3576)\n",
      "estrogen receptor (Identifier: 100136026)\n",
      "IL-8 (Identifier: 3576)\n",
      "IL-2 (Identifier: 3558)\n",
      "GAPDH (Identifier: 2597)\n",
      "Nrf2 (Identifier: 4780)\n",
      "IFN-g (Identifier: 3458)\n",
      "CD86 (Identifier: 942)\n",
      "Hprt (Identifier: 3251)\n",
      "\n",
      "Types of Cell Lines:\n",
      "SIRC (Identifier: CVCL:2724)\n",
      "E2 (Identifier: CVCL:6769)\n",
      "ERa-HeLa-9903 (Identifier: CVCL:2485)\n",
      "BG1 (Identifier: CVCL:6570)\n",
      "U937 (Identifier: CVCL:0007)\n",
      "7.2C (Identifier: CVCL:J025)\n"
     ]
    }
   ],
   "source": [
    "import pandas as pd\n",
    "\n",
    "# Replace with the path to your CSV file\n",
    "csv_file = os.getcwd() + 'OECD_pubtator_annotated.csv'\n",
    "\n",
    "# Read the CSV file into a pandas DataFrame\n",
    "df = pd.read_csv(csv_file)\n",
    "\n",
    "# Initialize sets to store unique gene types and cell line types\n",
    "gene_types = set()\n",
    "cell_line_types = set()\n",
    "\n",
    "# Iterate over rows in the DataFrame\n",
    "for index, row in df.iterrows():\n",
    "    term = row['Term']\n",
    "    ontology = row['Ontology']\n",
    "    identifier = row['Identifier']\n",
    "\n",
    "    # Check if the row represents a gene or cell line\n",
    "    if ontology == 'Gene':\n",
    "        gene_types.add((term, identifier))\n",
    "    elif ontology == 'CellLine':\n",
    "        cell_line_types.add((term, identifier))\n",
    "\n",
    "# Print out the results\n",
    "print(f\"Types of Genes:\")\n",
    "for term, identifier in gene_types:\n",
    "    print(f\"{term} (Identifier: {identifier})\")\n",
    "\n",
    "print(\"\\nTypes of Cell Lines:\")\n",
    "for term, identifier in cell_line_types:\n",
    "    print(f\"{term} (Identifier: {identifier})\")\n"
   ]
  },
  {
   "cell_type": "code",
   "execution_count": null,
   "id": "6732566c",
   "metadata": {},
   "outputs": [],
   "source": []
  }
 ],
 "metadata": {
  "kernelspec": {
   "display_name": "Python 3 (ipykernel)",
   "language": "python",
   "name": "python3"
  },
  "language_info": {
   "codemirror_mode": {
    "name": "ipython",
    "version": 3
   },
   "file_extension": ".py",
   "mimetype": "text/x-python",
   "name": "python",
   "nbconvert_exporter": "python",
   "pygments_lexer": "ipython3",
   "version": "3.11.3"
  }
 },
 "nbformat": 4,
 "nbformat_minor": 5
}
