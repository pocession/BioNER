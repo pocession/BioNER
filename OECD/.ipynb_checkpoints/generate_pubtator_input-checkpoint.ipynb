{
 "cells": [
  {
   "cell_type": "code",
   "execution_count": 18,
   "id": "84a00149",
   "metadata": {},
   "outputs": [],
   "source": [
    "# This script is used to generate input files for PubTator3 API\n",
    "# Check scrapper.ipynb to see the example about how to scrape data from OECD webpage\n",
    "import csv\n",
    "import os"
   ]
  },
  {
   "cell_type": "code",
   "execution_count": 19,
   "id": "85d0b9fa",
   "metadata": {},
   "outputs": [],
   "source": [
    "# Read the CSV file\n",
    "input_file = os.getcwd() + '/extracted_data.csv'\n",
    "\n",
    "# Open the CSV file and read its content\n",
    "with open(input_file, mode='r', encoding='utf-8') as file:\n",
    "    reader = csv.DictReader(file)\n",
    "    # Filter rows to include only those starting with \"Test No\"\n",
    "    filtered_rows = [row for row in reader if row['Title'].startswith('Test No')]"
   ]
  },
  {
   "cell_type": "code",
   "execution_count": 17,
   "id": "0637664b",
   "metadata": {},
   "outputs": [
    {
     "name": "stdout",
     "output_type": "stream",
     "text": [
      "Extracted data has been combined and written into /Users/tsunghanhsieh/BioNER/OECD/Pubtator_Input/OECD_invivo.txt.\n"
     ]
    }
   ],
   "source": [
    "# Save file for PubTator3 API\n",
    "# Iterate over the filtered rows and save each as a separate text file\n",
    "\n",
    "# Set the file name\n",
    "output_file = os.getcwd() + \"/Pubtator_Input/OECD_invivo.txt\"\n",
    "\n",
    "# Generate output text\n",
    "output_text = ''\n",
    "for row in filtered_rows:\n",
    "    # Extract test tile\n",
    "    test_title = row['Title'] + '\\n'\n",
    "    \n",
    "    # Extract the test number from the Title column\n",
    "    test_no = row['Title'].split(':')[0].split()[-1] + '\\n'\n",
    "    \n",
    "    # Get the content from the Description column\n",
    "    content = row['Description'] + '\\n\\n'\n",
    "    \n",
    "    output_text = output_text + test_no + test_title + content\n",
    "    \n",
    "# Save the content to the file\n",
    "with open(output_file, 'w', encoding='utf-8') as file:\n",
    "    file.write(output_text + '\\n')\n",
    "        \n",
    "print(f\"Extracted data has been combined and written into {output_file}.\")"
   ]
  },
  {
   "cell_type": "code",
   "execution_count": null,
   "id": "f038e5a3",
   "metadata": {},
   "outputs": [],
   "source": [
    "# Note the output may contain duplicated information.\n",
    "# Need some manual curation after PubTator3 API annotation."
   ]
  }
 ],
 "metadata": {
  "kernelspec": {
   "display_name": "Python 3 (ipykernel)",
   "language": "python",
   "name": "python3"
  },
  "language_info": {
   "codemirror_mode": {
    "name": "ipython",
    "version": 3
   },
   "file_extension": ".py",
   "mimetype": "text/x-python",
   "name": "python",
   "nbconvert_exporter": "python",
   "pygments_lexer": "ipython3",
   "version": "3.11.3"
  }
 },
 "nbformat": 4,
 "nbformat_minor": 5
}
