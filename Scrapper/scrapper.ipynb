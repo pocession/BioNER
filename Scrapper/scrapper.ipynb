{
 "cells": [
  {
   "cell_type": "code",
   "execution_count": 1,
   "id": "5fc346b5",
   "metadata": {},
   "outputs": [],
   "source": [
    "import os\n",
    "import re\n",
    "import csv\n",
    "import pandas as pd"
   ]
  },
  {
   "cell_type": "code",
   "execution_count": 2,
   "id": "f91fea2e",
   "metadata": {},
   "outputs": [],
   "source": [
    "from bs4 import BeautifulSoup\n",
    "\n",
    "# Path to the local HTML file\n",
    "file_path = os.getcwd() + '/page.html'\n",
    "\n",
    "# Open the file and read its content\n",
    "with open(file_path, 'r', encoding='utf-8') as file:\n",
    "    html_content = file.read()\n",
    "\n",
    "# Parse the HTML content using BeautifulSoup\n",
    "soup = BeautifulSoup(html_content, 'html.parser')\n"
   ]
  },
  {
   "cell_type": "code",
   "execution_count": 5,
   "id": "145a1fbb",
   "metadata": {},
   "outputs": [],
   "source": [
    "# Get the Test guidelines information\n",
    "result_items = soup.find_all('div', class_='resultItemContainer')"
   ]
  },
  {
   "cell_type": "code",
   "execution_count": 26,
   "id": "903fc1d9",
   "metadata": {},
   "outputs": [
    {
     "name": "stdout",
     "output_type": "stream",
     "text": [
      "There are 89 titles and 89 descriptions.\n",
      "The data are aligned.\n"
     ]
    }
   ],
   "source": [
    "# To prevent unalignment between title and description\n",
    "# I search both title and description in one resultItemContainer and save them in a paired data\n",
    "\n",
    "extracted_data = []\n",
    "title_list = []\n",
    "description_list = []\n",
    "for item in result_items:\n",
    "    h5 = item.find('h5', class_='search_title')\n",
    "    text_content = h5.get_text(separator=' ', strip=True)\n",
    "    lines = text_content.split('\\n')\n",
    "    cleaned_lines = [line.strip() for line in lines if line.strip() != ':']\n",
    "    title = ' '.join(cleaned_lines)\n",
    "    title_list.append(title)\n",
    "    \n",
    "    p = item.find('p')\n",
    "    description = p.get_text(separator=' ', strip=True)\n",
    "    description_list.append(description)\n",
    "    \n",
    "    extracted_data.append((title, description))\n",
    "    \n",
    "if len(title_list) == len(description_list):\n",
    "    print(f\"There are {len(title_list)} titles and {len(description_list)} descriptions.\")\n",
    "    print(f\"The data are aligned.\")"
   ]
  },
  {
   "cell_type": "code",
   "execution_count": 27,
   "id": "97e47bb6",
   "metadata": {},
   "outputs": [
    {
     "name": "stdout",
     "output_type": "stream",
     "text": [
      "Extracted data has been saved to /Users/tsunghanhsieh/BioNER/Scrapper/extracted_data.csv.\n"
     ]
    }
   ],
   "source": [
    "output = os.getcwd() + \"/extracted_data.csv\"\n",
    "with open(output, 'w', newline='', encoding='utf-8') as csvfile:\n",
    "    csvwriter = csv.writer(csvfile)\n",
    "    csvwriter.writerow(['Title', 'Description'])\n",
    "    csvwriter.writerows(extracted_data)\n",
    "\n",
    "print(f\"Extracted data has been saved to {output}.\")"
   ]
  },
  {
   "cell_type": "code",
   "execution_count": null,
   "id": "a91d7dc2",
   "metadata": {},
   "outputs": [],
   "source": [
    "# Iterate through the combined DataFrame and save each row as a text file\n",
    "for index, row in combined_df.iterrows():\n",
    "    title = row['title']\n",
    "    description = row['description']\n",
    "    \n",
    "    # Define the filename and content\n",
    "    filename = f\"{title}.txt\"\n",
    "    content = description\n",
    "    \n",
    "    # Ensure the filename is safe (remove or replace any problematic characters)\n",
    "    safe_filename = \"\".join([c for c in filename if c.isalpha() or c.isdigit() or c in (' ', '.', '_')]).rstrip()\n",
    "    \n",
    "    # Save the content to a text file\n",
    "    with open(os.path.join(output_dir, safe_filename), 'w') as file:\n",
    "        file.write(content)\n",
    "\n",
    "print(\"Text files have been created successfully.\")"
   ]
  }
 ],
 "metadata": {
  "kernelspec": {
   "display_name": "Python 3 (ipykernel)",
   "language": "python",
   "name": "python3"
  },
  "language_info": {
   "codemirror_mode": {
    "name": "ipython",
    "version": 3
   },
   "file_extension": ".py",
   "mimetype": "text/x-python",
   "name": "python",
   "nbconvert_exporter": "python",
   "pygments_lexer": "ipython3",
   "version": "3.11.3"
  }
 },
 "nbformat": 4,
 "nbformat_minor": 5
}
