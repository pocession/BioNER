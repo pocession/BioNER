{
 "cells": [
  {
   "cell_type": "code",
   "execution_count": 1,
   "id": "b7c5faa9",
   "metadata": {},
   "outputs": [],
   "source": [
    "import requests\n",
    "import os\n",
    "import json\n",
    "import csv\n",
    "import re\n",
    "from Aging_pubtator3 import get_relation_data"
   ]
  },
  {
   "cell_type": "code",
   "execution_count": 2,
   "id": "7da47c76",
   "metadata": {},
   "outputs": [
    {
     "name": "stdout",
     "output_type": "stream",
     "text": [
      "Data has been written to /Users/tsunghanhsieh/BioNER/Aging/Pubtator_Output/aging.txt\n"
     ]
    }
   ],
   "source": [
    "# Check the how to describe aging in disease ontology\n",
    "\n",
    "query = 'aging'\n",
    "limit = 50\n",
    "retrieve_url = f'https://www.ncbi.nlm.nih.gov/research/pubtator3-api/entity/autocomplete/?query={query}&concept=disease&limit={limit}'\n",
    "\n",
    "# Define the output file\n",
    "output_file_path = os.getcwd() + f'/Pubtator_Output/{query}.txt'\n",
    "\n",
    "# API call\n",
    "response = requests.get(retrieve_url)\n",
    "\n",
    "if response.status_code == 200:\n",
    "    # Define the CSV column names\n",
    "    csv_columns = ['_id', 'biotype', 'name', 'match']\n",
    "    \n",
    "    # Parse the JSON response\n",
    "    data = json.loads(response.text)\n",
    "    \n",
    "    with open(output_file_path, 'w', newline='') as csvfile:\n",
    "        writer = csv.DictWriter(csvfile, fieldnames=csv_columns)\n",
    "        writer.writeheader()\n",
    "        for row in data:\n",
    "            writer.writerow(row)\n",
    "    print(f\"Data has been written to {output_file_path}\")\n",
    "else:\n",
    "    print(\"No response!\")"
   ]
  },
  {
   "cell_type": "code",
   "execution_count": 3,
   "id": "01c08366",
   "metadata": {},
   "outputs": [
    {
     "data": {
      "text/plain": [
       "['@DISEASE_Aging_Premature',\n",
       " '@DISEASE_Hippocampal_Sclerosis',\n",
       " '@DISEASE_Werner_Syndrome',\n",
       " '@DISEASE_Branchio_Oto_Renal_Syndrome',\n",
       " '@DISEASE_Penttinen_Aula_syndrome']"
      ]
     },
     "execution_count": 3,
     "metadata": {},
     "output_type": "execute_result"
    }
   ],
   "source": [
    "# Initialize a list to store _id values\n",
    "ids_list = []\n",
    "\n",
    "# Iterate through each entry in the data\n",
    "for entry in data:\n",
    "    _id = entry.get('_id')\n",
    "    ids_list.append(_id)\n",
    "ids_list"
   ]
  },
  {
   "cell_type": "code",
   "execution_count": 7,
   "id": "e4a7c5d5",
   "metadata": {},
   "outputs": [
    {
     "ename": "IndexError",
     "evalue": "list index out of range",
     "output_type": "error",
     "traceback": [
      "\u001b[0;31m---------------------------------------------------------------------------\u001b[0m",
      "\u001b[0;31mIndexError\u001b[0m                                Traceback (most recent call last)",
      "Cell \u001b[0;32mIn[7], line 3\u001b[0m\n\u001b[1;32m      1\u001b[0m output_path \u001b[38;5;241m=\u001b[39m os\u001b[38;5;241m.\u001b[39mgetcwd() \u001b[38;5;241m+\u001b[39m \u001b[38;5;124m'\u001b[39m\u001b[38;5;124m/Pubtator_Output/\u001b[39m\u001b[38;5;124m'\u001b[39m\n\u001b[1;32m      2\u001b[0m \u001b[38;5;28;01mfor\u001b[39;00m _id \u001b[38;5;129;01min\u001b[39;00m ids_list:\n\u001b[0;32m----> 3\u001b[0m     get_relation_data(_id, \u001b[38;5;124m'\u001b[39m\u001b[38;5;124mpositive_correlate\u001b[39m\u001b[38;5;124m'\u001b[39m, \u001b[38;5;124m'\u001b[39m\u001b[38;5;124mGene\u001b[39m\u001b[38;5;124m'\u001b[39m, output_path)\n",
      "File \u001b[0;32m~/BioNER/Aging/Aging_pubtator3.py:41\u001b[0m, in \u001b[0;36mget_relation_data\u001b[0;34m(e1_id, relation_type, e2, output_path)\u001b[0m\n\u001b[1;32m     36\u001b[0m     unique_targets\u001b[38;5;241m.\u001b[39madd(target)\n\u001b[1;32m     38\u001b[0m \u001b[38;5;66;03m# Save to csv file\u001b[39;00m\n\u001b[1;32m     39\u001b[0m \n\u001b[1;32m     40\u001b[0m \u001b[38;5;66;03m# Extract disease name from the first entry\u001b[39;00m\n\u001b[0;32m---> 41\u001b[0m first_entry \u001b[38;5;241m=\u001b[39m data[\u001b[38;5;241m0\u001b[39m]  \u001b[38;5;66;03m# Assuming there is at least one entry\u001b[39;00m\n\u001b[1;32m     42\u001b[0m disease_source \u001b[38;5;241m=\u001b[39m first_entry\u001b[38;5;241m.\u001b[39mget(\u001b[38;5;124m'\u001b[39m\u001b[38;5;124msource\u001b[39m\u001b[38;5;124m'\u001b[39m)  \u001b[38;5;66;03m# @DISEASE_Aging_Premature\u001b[39;00m\n\u001b[1;32m     44\u001b[0m \u001b[38;5;66;03m# Extract disease name without '@DISEASE_'\u001b[39;00m\n",
      "\u001b[0;31mIndexError\u001b[0m: list index out of range"
     ]
    }
   ],
   "source": [
    "output_path = os.getcwd() + '/Pubtator_Output/'\n",
    "\n",
    "# For disease and gene, only type=associate have retrieved data\n",
    "for _id in ids_list:\n",
    "    get_relation_data(_id, 'associate', 'Gene', output_path)"
   ]
  },
  {
   "cell_type": "code",
   "execution_count": null,
   "id": "3a404e91",
   "metadata": {},
   "outputs": [],
   "source": []
  }
 ],
 "metadata": {
  "kernelspec": {
   "display_name": "Python 3 (ipykernel)",
   "language": "python",
   "name": "python3"
  },
  "language_info": {
   "codemirror_mode": {
    "name": "ipython",
    "version": 3
   },
   "file_extension": ".py",
   "mimetype": "text/x-python",
   "name": "python",
   "nbconvert_exporter": "python",
   "pygments_lexer": "ipython3",
   "version": "3.11.3"
  }
 },
 "nbformat": 4,
 "nbformat_minor": 5
}
