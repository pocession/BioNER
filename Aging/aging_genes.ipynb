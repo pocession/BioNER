{
 "cells": [
  {
   "cell_type": "code",
   "execution_count": 1,
   "id": "222c9089",
   "metadata": {},
   "outputs": [],
   "source": [
    "import requests\n",
    "import os\n",
    "import json\n",
    "import csv\n",
    "import re\n",
    "from Aging_pubtator3 import get_relation_data"
   ]
  },
  {
   "cell_type": "code",
   "execution_count": 2,
   "id": "964979f6",
   "metadata": {},
   "outputs": [
    {
     "name": "stdout",
     "output_type": "stream",
     "text": [
      "Data has been written to /Users/tsunghanhsieh/BioNER/Aging/Pubtator_Output/aging.txt\n"
     ]
    }
   ],
   "source": [
    "# Check the how to describe aging in disease ontology\n",
    "\n",
    "query = 'aging'\n",
    "limit = 50\n",
    "retrieve_url = f'https://www.ncbi.nlm.nih.gov/research/pubtator3-api/entity/autocomplete/?query={query}&concept=disease&limit={limit}'\n",
    "\n",
    "# Define the output file\n",
    "output_file_path = os.getcwd() + f'/Pubtator_Output/{query}.txt'\n",
    "\n",
    "# API call\n",
    "response = requests.get(retrieve_url)\n",
    "\n",
    "if response.status_code == 200:\n",
    "    # Define the CSV column names\n",
    "    csv_columns = ['_id', 'biotype', 'name', 'match']\n",
    "    \n",
    "    # Parse the JSON response\n",
    "    data = json.loads(response.text)\n",
    "    \n",
    "    with open(output_file_path, 'w', newline='') as csvfile:\n",
    "        writer = csv.DictWriter(csvfile, fieldnames=csv_columns)\n",
    "        writer.writeheader()\n",
    "        for row in data:\n",
    "            writer.writerow(row)\n",
    "    print(f\"Data has been written to {output_file_path}\")\n",
    "else:\n",
    "    print(\"No response!\")"
   ]
  },
  {
   "cell_type": "code",
   "execution_count": 3,
   "id": "959e1025",
   "metadata": {},
   "outputs": [
    {
     "data": {
      "text/plain": [
       "['@DISEASE_Aging_Premature',\n",
       " '@DISEASE_Hippocampal_Sclerosis',\n",
       " '@DISEASE_Werner_Syndrome',\n",
       " '@DISEASE_Branchio_Oto_Renal_Syndrome',\n",
       " '@DISEASE_Penttinen_Aula_syndrome']"
      ]
     },
     "execution_count": 3,
     "metadata": {},
     "output_type": "execute_result"
    }
   ],
   "source": [
    "# Initialize a list to store _id values\n",
    "ids_list = []\n",
    "\n",
    "# Iterate through each entry in the data\n",
    "for entry in data:\n",
    "    _id = entry.get('_id')\n",
    "    ids_list.append(_id)\n",
    "ids_list"
   ]
  },
  {
   "cell_type": "code",
   "execution_count": 4,
   "id": "e9db6534",
   "metadata": {},
   "outputs": [
    {
     "name": "stdout",
     "output_type": "stream",
     "text": [
      "Number of unique targets: 391\n",
      "Data has been saved to /Users/tsunghanhsieh/BioNER/Aging/Pubtator_Output/Aging_Premature.csv.\n",
      "Number of unique targets: 439\n",
      "Data has been saved to /Users/tsunghanhsieh/BioNER/Aging/Pubtator_Output/Hippocampal_Sclerosis.csv.\n",
      "Number of unique targets: 197\n",
      "Data has been saved to /Users/tsunghanhsieh/BioNER/Aging/Pubtator_Output/Werner_Syndrome.csv.\n",
      "Number of unique targets: 57\n",
      "Data has been saved to /Users/tsunghanhsieh/BioNER/Aging/Pubtator_Output/Branchio_Oto_Renal_Syndrome.csv.\n",
      "Number of unique targets: 4\n",
      "Data has been saved to /Users/tsunghanhsieh/BioNER/Aging/Pubtator_Output/Penttinen_Aula_syndrome.csv.\n"
     ]
    }
   ],
   "source": [
    "output_path = os.getcwd() + '/Pubtator_Output/'\n",
    "\n",
    "# For disease and gene, only type=associate have retrieved data\n",
    "for _id in ids_list:\n",
    "    get_relation_data(_id, 'associate', 'Gene', output_path)"
   ]
  },
  {
   "cell_type": "code",
   "execution_count": null,
   "id": "cdca9e49",
   "metadata": {},
   "outputs": [],
   "source": []
  }
 ],
 "metadata": {
  "kernelspec": {
   "display_name": "Python 3 (ipykernel)",
   "language": "python",
   "name": "python3"
  },
  "language_info": {
   "codemirror_mode": {
    "name": "ipython",
    "version": 3
   },
   "file_extension": ".py",
   "mimetype": "text/x-python",
   "name": "python",
   "nbconvert_exporter": "python",
   "pygments_lexer": "ipython3",
   "version": "3.11.3"
  }
 },
 "nbformat": 4,
 "nbformat_minor": 5
}
